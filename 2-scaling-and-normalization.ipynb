{
 "cells": [
  {
   "cell_type": "markdown",
   "execution_count": null,
   "metadata": {
    "papermill": {
     "duration": 0.012909,
     "end_time": "2020-09-07T10:05:57.568254",
     "exception": false,
     "start_time": "2020-09-07T10:05:57.555345",
     "status": "completed"
    },
    "tags": []
   },
   "source": [
    "**[Data Cleaning Home Page](https://www.kaggle.com/learn/data-cleaning)**\n",
    "\n",
    "---\n"
   ]
  },
  {
   "cell_type": "markdown",
   "execution_count": null,
   "metadata": {
    "papermill": {
     "duration": 0.007572,
     "end_time": "2020-09-07T10:05:57.584051",
     "exception": false,
     "start_time": "2020-09-07T10:05:57.576479",
     "status": "completed"
    },
    "tags": []
   },
   "source": [
    "In this exercise, you'll apply what you learned in the **Scaling and normalization** tutorial.\n",
    "\n",
    "# Setup\n",
    "\n",
    "The questions below will give you feedback on your work. Run the following cell to set up the feedback system."
   ]
  },
  {
   "cell_type": "code",
   "execution_count": 1,
   "metadata": {
    "execution": {
     "iopub.execute_input": "2020-09-07T10:05:57.608355Z",
     "iopub.status.busy": "2020-09-07T10:05:57.607552Z",
     "iopub.status.idle": "2020-09-07T10:06:00.776247Z",
     "shell.execute_reply": "2020-09-07T10:06:00.775283Z"
    },
    "papermill": {
     "duration": 3.184372,
     "end_time": "2020-09-07T10:06:00.776416",
     "exception": false,
     "start_time": "2020-09-07T10:05:57.592044",
     "status": "completed"
    },
    "tags": []
   },
   "outputs": [
    {
     "name": "stdout",
     "output_type": "stream",
     "text": [
      "Setup Complete\n"
     ]
    }
   ],
   "source": [
    "from learntools.core import binder\n",
    "binder.bind(globals())\n",
    "from learntools.data_cleaning.ex2 import *\n",
    "print(\"Setup Complete\")"
   ]
  },
  {
   "cell_type": "markdown",
   "execution_count": null,
   "metadata": {
    "papermill": {
     "duration": 0.008339,
     "end_time": "2020-09-07T10:06:00.793846",
     "exception": false,
     "start_time": "2020-09-07T10:06:00.785507",
     "status": "completed"
    },
    "tags": []
   },
   "source": [
    "# Get our environment set up\n",
    "\n",
    "To practice scaling and normalization, we're going to use a [dataset of Kickstarter campaigns](https://www.kaggle.com/kemical/kickstarter-projects). (Kickstarter is a website where people can ask people to invest in various projects and concept products.)\n",
    "\n",
    "The next code cell loads in the libraries and dataset we'll be using. "
   ]
  },
  {
   "cell_type": "code",
   "execution_count": 2,
   "metadata": {
    "execution": {
     "iopub.execute_input": "2020-09-07T10:06:00.819881Z",
     "iopub.status.busy": "2020-09-07T10:06:00.818966Z",
     "iopub.status.idle": "2020-09-07T10:06:02.447183Z",
     "shell.execute_reply": "2020-09-07T10:06:02.446236Z"
    },
    "papermill": {
     "duration": 1.644982,
     "end_time": "2020-09-07T10:06:02.447331",
     "exception": false,
     "start_time": "2020-09-07T10:06:00.802349",
     "status": "completed"
    },
    "tags": []
   },
   "outputs": [],
   "source": [
    "# modules we'll use\n",
    "import pandas as pd\n",
    "import numpy as np\n",
    "\n",
    "# for Box-Cox Transformation\n",
    "from scipy import stats\n",
    "\n",
    "# for min_max scaling\n",
    "from mlxtend.preprocessing import minmax_scaling\n",
    "\n",
    "# plotting modules\n",
    "import seaborn as sns\n",
    "import matplotlib.pyplot as plt\n",
    "\n",
    "# read in all our data\n",
    "kickstarters_2017 = pd.read_csv(\"../input/kickstarter-projects/ks-projects-201801.csv\")\n",
    "\n",
    "# set seed for reproducibility\n",
    "np.random.seed(0)"
   ]
  },
  {
   "cell_type": "markdown",
   "execution_count": null,
   "metadata": {
    "papermill": {
     "duration": 0.009148,
     "end_time": "2020-09-07T10:06:02.465884",
     "exception": false,
     "start_time": "2020-09-07T10:06:02.456736",
     "status": "completed"
    },
    "tags": []
   },
   "source": [
    "Let's start by scaling the goals of each campaign, which is how much money they were asking for.  The plots show a histogram of the values in the \"usd_goal_real\" column, both before and after scaling.  "
   ]
  },
  {
   "cell_type": "code",
   "execution_count": 3,
   "metadata": {
    "execution": {
     "iopub.execute_input": "2020-09-07T10:06:02.494805Z",
     "iopub.status.busy": "2020-09-07T10:06:02.493602Z",
     "iopub.status.idle": "2020-09-07T10:06:03.499098Z",
     "shell.execute_reply": "2020-09-07T10:06:03.498344Z"
    },
    "papermill": {
     "duration": 1.024299,
     "end_time": "2020-09-07T10:06:03.499264",
     "exception": false,
     "start_time": "2020-09-07T10:06:02.474965",
     "status": "completed"
    },
    "tags": []
   },
   "outputs": [
    {
     "data": {
      "text/plain": [
       "Text(0.5, 1.0, 'Scaled data')"
      ]
     },
     "execution_count": 3,
     "metadata": {},
     "output_type": "execute_result"
    },
    {
     "data": {
      "image/png": "[encoded data removed]",
      "text/plain": [
       "<Figure size 1080x216 with 2 Axes>"
      ]
     },
     "metadata": {
      "needs_background": "light"
     },
     "output_type": "display_data"
    }
   ],
   "source": [
    "# select the usd_goal_real column\n",
    "original_data = pd.DataFrame(kickstarters_2017.usd_goal_real)\n",
    "\n",
    "# scale the goals from 0 to 1\n",
    "scaled_data = minmax_scaling(original_data, columns=['usd_goal_real'])\n",
    "\n",
    "# plot the original & scaled data together to compare\n",
    "fig, ax=plt.subplots(1,2,figsize=(15,3))\n",
    "sns.distplot(kickstarters_2017.usd_goal_real, ax=ax[0])\n",
    "ax[0].set_title(\"Original Data\")\n",
    "sns.distplot(scaled_data, ax=ax[1])\n",
    "ax[1].set_title(\"Scaled data\")"
   ]
  },
  {
   "cell_type": "markdown",
   "execution_count": null,
   "metadata": {
    "papermill": {
     "duration": 0.009398,
     "end_time": "2020-09-07T10:06:03.518622",
     "exception": false,
     "start_time": "2020-09-07T10:06:03.509224",
     "status": "completed"
    },
    "tags": []
   },
   "source": [
    "After scaling, all values lie between 0 and 1 (you can read this in the horizontal axis of the second plot above, and we verify in the code cell below)."
   ]
  },
  {
   "cell_type": "code",
   "execution_count": 4,
   "metadata": {
    "execution": {
     "iopub.execute_input": "2020-09-07T10:06:03.550636Z",
     "iopub.status.busy": "2020-09-07T10:06:03.549342Z",
     "iopub.status.idle": "2020-09-07T10:06:03.560827Z",
     "shell.execute_reply": "2020-09-07T10:06:03.559929Z"
    },
    "papermill": {
     "duration": 0.032707,
     "end_time": "2020-09-07T10:06:03.561022",
     "exception": false,
     "start_time": "2020-09-07T10:06:03.528315",
     "status": "completed"
    },
    "tags": []
   },
   "outputs": [
    {
     "name": "stdout",
     "output_type": "stream",
     "text": [
      "Original data\n",
      "Preview:\n",
      "    usd_goal_real\n",
      "0        1533.95\n",
      "1       30000.00\n",
      "2       45000.00\n",
      "3        5000.00\n",
      "4       19500.00\n",
      "Minimum value: 0.01 \n",
      "Maximum value: 166361390.71\n",
      "______________________________\n",
      "\n",
      "Scaled data\n",
      "Preview:\n",
      "    usd_goal_real\n",
      "0       0.000009\n",
      "1       0.000180\n",
      "2       0.000270\n",
      "3       0.000030\n",
      "4       0.000117\n",
      "Minimum value: 0.0 \n",
      "Maximum value: 1.0\n"
     ]
    }
   ],
   "source": [
    "print('Original data\\nPreview:\\n', original_data.head())\n",
    "print('Minimum value:', float(original_data.min()),\n",
    "      '\\nMaximum value:', float(original_data.max()))\n",
    "print('_'*30)\n",
    "\n",
    "print('\\nScaled data\\nPreview:\\n', scaled_data.head())\n",
    "print('Minimum value:', float(scaled_data.min()),\n",
    "      '\\nMaximum value:', float(scaled_data.max()))"
   ]
  },
  {
   "cell_type": "markdown",
   "execution_count": null,
   "metadata": {
    "papermill": {
     "duration": 0.011325,
     "end_time": "2020-09-07T10:06:03.586222",
     "exception": false,
     "start_time": "2020-09-07T10:06:03.574897",
     "status": "completed"
    },
    "tags": []
   },
   "source": [
    "# 1) Practice scaling\n",
    "\n",
    "We just scaled the \"usd_goal_real\" column. What about the \"goal\" column?\n",
    "\n",
    "Begin by running the code cell below to create a DataFrame `original_goal_data` containing the \"goal\" column."
   ]
  },
  {
   "cell_type": "code",
   "execution_count": 5,
   "metadata": {
    "execution": {
     "iopub.execute_input": "2020-09-07T10:06:03.613345Z",
     "iopub.status.busy": "2020-09-07T10:06:03.612282Z",
     "iopub.status.idle": "2020-09-07T10:06:03.618324Z",
     "shell.execute_reply": "2020-09-07T10:06:03.617353Z"
    },
    "papermill": {
     "duration": 0.022279,
     "end_time": "2020-09-07T10:06:03.618549",
     "exception": false,
     "start_time": "2020-09-07T10:06:03.596270",
     "status": "completed"
    },
    "tags": []
   },
   "outputs": [],
   "source": [
    "# select the usd_goal_real column\n",
    "original_goal_data = pd.DataFrame(kickstarters_2017.goal)"
   ]
  },
  {
   "cell_type": "markdown",
   "execution_count": null,
   "metadata": {
    "papermill": {
     "duration": 0.012133,
     "end_time": "2020-09-07T10:06:03.643470",
     "exception": false,
     "start_time": "2020-09-07T10:06:03.631337",
     "status": "completed"
    },
    "tags": []
   },
   "source": [
    "Use `original_goal_data` to create a new DataFrame `scaled_goal_data` with values scaled between 0 and 1. You must use the `minimax_scaling()` function."
   ]
  },
  {
   "cell_type": "code",
   "execution_count": 6,
   "metadata": {
    "execution": {
     "iopub.execute_input": "2020-09-07T10:06:03.671728Z",
     "iopub.status.busy": "2020-09-07T10:06:03.670501Z",
     "iopub.status.idle": "2020-09-07T10:06:03.700153Z",
     "shell.execute_reply": "2020-09-07T10:06:03.699374Z"
    },
    "papermill": {
     "duration": 0.045459,
     "end_time": "2020-09-07T10:06:03.700286",
     "exception": false,
     "start_time": "2020-09-07T10:06:03.654827",
     "status": "completed"
    },
    "tags": []
   },
   "outputs": [
    {
     "data": {
      "application/javascript": [
       "parent.postMessage({\"jupyterEvent\": \"custom.exercise_interaction\", \"data\": {\"outcomeType\": 1, \"valueTowardsCompletion\": 0.3333333333333333, \"interactionType\": 1, \"questionType\": 1, \"questionId\": \"1_TryScaling\", \"learnToolsVersion\": \"0.3.4\", \"failureMessage\": \"\", \"exceptionClass\": \"\", \"trace\": \"\"}}, \"*\")"
      ],
      "text/plain": [
       "<IPython.core.display.Javascript object>"
      ]
     },
     "metadata": {},
     "output_type": "display_data"
    },
    {
     "data": {
      "text/markdown": [
       "<span style=\"color:#33cc33\">Correct</span>"
      ],
      "text/plain": [
       "Correct"
      ]
     },
     "metadata": {},
     "output_type": "display_data"
    }
   ],
   "source": [
    "# TODO: Your code here\n",
    "scaled_goal_data = minmax_scaling(original_goal_data, columns=['goal'])\n",
    "\n",
    "# Check your answer\n",
    "q1.check()"
   ]
  },
  {
   "cell_type": "code",
   "execution_count": 7,
   "metadata": {
    "execution": {
     "iopub.execute_input": "2020-09-07T10:06:03.725196Z",
     "iopub.status.busy": "2020-09-07T10:06:03.724228Z",
     "iopub.status.idle": "2020-09-07T10:06:03.728108Z",
     "shell.execute_reply": "2020-09-07T10:06:03.727464Z"
    },
    "papermill": {
     "duration": 0.018982,
     "end_time": "2020-09-07T10:06:03.728245",
     "exception": false,
     "start_time": "2020-09-07T10:06:03.709263",
     "status": "completed"
    },
    "tags": []
   },
   "outputs": [],
   "source": [
    "# Lines below will give you a hint or solution code\n",
    "#q1.hint()\n",
    "#q1.solution()"
   ]
  },
  {
   "cell_type": "markdown",
   "execution_count": null,
   "metadata": {
    "papermill": {
     "duration": 0.009857,
     "end_time": "2020-09-07T10:06:03.747824",
     "exception": false,
     "start_time": "2020-09-07T10:06:03.737967",
     "status": "completed"
    },
    "tags": []
   },
   "source": [
    "# 2) Practice normalization\n",
    "\n",
    "Now you'll practice normalization. We begin by normalizing the amount of money pledged to each campaign."
   ]
  },
  {
   "cell_type": "code",
   "execution_count": 8,
   "metadata": {
    "execution": {
     "iopub.execute_input": "2020-09-07T10:06:03.783280Z",
     "iopub.status.busy": "2020-09-07T10:06:03.782471Z",
     "iopub.status.idle": "2020-09-07T10:06:06.143124Z",
     "shell.execute_reply": "2020-09-07T10:06:06.142416Z"
    },
    "papermill": {
     "duration": 2.386038,
     "end_time": "2020-09-07T10:06:06.143259",
     "exception": false,
     "start_time": "2020-09-07T10:06:03.757221",
     "status": "completed"
    },
    "tags": []
   },
   "outputs": [
    {
     "data": {
      "image/png": "[encoded data removed]",
      "text/plain": [
       "<Figure size 1080x216 with 2 Axes>"
      ]
     },
     "metadata": {
      "needs_background": "light"
     },
     "output_type": "display_data"
    }
   ],
   "source": [
    "# get the index of all positive pledges (Box-Cox only takes positive values)\n",
    "index_of_positive_pledges = kickstarters_2017.usd_pledged_real > 0\n",
    "\n",
    "# get only positive pledges (using their indexes)\n",
    "positive_pledges = kickstarters_2017.usd_pledged_real.loc[index_of_positive_pledges]\n",
    "\n",
    "# normalize the pledges (w/ Box-Cox)\n",
    "normalized_pledges = pd.Series(stats.boxcox(positive_pledges)[0], \n",
    "                               name='usd_pledged_real', index=positive_pledges.index)\n",
    "\n",
    "# plot both together to compare\n",
    "fig, ax=plt.subplots(1,2,figsize=(15,3))\n",
    "sns.distplot(positive_pledges, ax=ax[0])\n",
    "ax[0].set_xscale('log')\n",
    "ax[0].set_title(\"Original Data\")\n",
    "sns.distplot(normalized_pledges, ax=ax[1])\n",
    "ax[1].set_title(\"Normalized data\");"
   ]
  },
  {
   "cell_type": "markdown",
   "execution_count": null,
   "metadata": {
    "papermill": {
     "duration": 0.009137,
     "end_time": "2020-09-07T10:06:06.162209",
     "exception": false,
     "start_time": "2020-09-07T10:06:06.153072",
     "status": "completed"
    },
    "tags": []
   },
   "source": [
    "It's not perfect (it looks like a lot pledges got very few pledges) but it is much closer to a normal distribution!"
   ]
  },
  {
   "cell_type": "code",
   "execution_count": 9,
   "metadata": {
    "execution": {
     "iopub.execute_input": "2020-09-07T10:06:06.191615Z",
     "iopub.status.busy": "2020-09-07T10:06:06.190789Z",
     "iopub.status.idle": "2020-09-07T10:06:06.202621Z",
     "shell.execute_reply": "2020-09-07T10:06:06.201485Z"
    },
    "papermill": {
     "duration": 0.031075,
     "end_time": "2020-09-07T10:06:06.202804",
     "exception": false,
     "start_time": "2020-09-07T10:06:06.171729",
     "status": "completed"
    },
    "tags": []
   },
   "outputs": [
    {
     "name": "stdout",
     "output_type": "stream",
     "text": [
      "Original data\n",
      "Preview:\n",
      " 1     2421.0\n",
      "2      220.0\n",
      "3        1.0\n",
      "4     1283.0\n",
      "5    52375.0\n",
      "Name: usd_pledged_real, dtype: float64\n",
      "Minimum value: 0.45 \n",
      "Maximum value: 20338986.27\n",
      "______________________________\n",
      "\n",
      "Normalized data\n",
      "Preview:\n",
      " 1    10.165142\n",
      "2     6.468598\n",
      "3     0.000000\n",
      "4     9.129277\n",
      "5    15.836853\n",
      "Name: usd_pledged_real, dtype: float64\n",
      "Minimum value: -0.7779954122762203 \n",
      "Maximum value: 30.69054020451361\n"
     ]
    }
   ],
   "source": [
    "print('Original data\\nPreview:\\n', positive_pledges.head())\n",
    "print('Minimum value:', float(positive_pledges.min()),\n",
    "      '\\nMaximum value:', float(positive_pledges.max()))\n",
    "print('_'*30)\n",
    "\n",
    "print('\\nNormalized data\\nPreview:\\n', normalized_pledges.head())\n",
    "print('Minimum value:', float(normalized_pledges.min()),\n",
    "      '\\nMaximum value:', float(normalized_pledges.max()))"
   ]
  },
  {
   "cell_type": "markdown",
   "execution_count": null,
   "metadata": {
    "papermill": {
     "duration": 0.009223,
     "end_time": "2020-09-07T10:06:06.222413",
     "exception": false,
     "start_time": "2020-09-07T10:06:06.213190",
     "status": "completed"
    },
    "tags": []
   },
   "source": [
    "We used the \"usd_pledged_real\" column. Follow the same process to normalize the \"pledged\" column. "
   ]
  },
  {
   "cell_type": "code",
   "execution_count": 10,
   "metadata": {
    "execution": {
     "iopub.execute_input": "2020-09-07T10:06:06.247661Z",
     "iopub.status.busy": "2020-09-07T10:06:06.246296Z",
     "iopub.status.idle": "2020-09-07T10:06:06.249416Z",
     "shell.execute_reply": "2020-09-07T10:06:06.250051Z"
    },
    "papermill": {
     "duration": 0.018255,
     "end_time": "2020-09-07T10:06:06.250222",
     "exception": false,
     "start_time": "2020-09-07T10:06:06.231967",
     "status": "completed"
    },
    "tags": []
   },
   "outputs": [],
   "source": [
    "# TODO: Your code here!\n"
   ]
  },
  {
   "cell_type": "markdown",
   "execution_count": null,
   "metadata": {
    "papermill": {
     "duration": 0.009545,
     "end_time": "2020-09-07T10:06:06.269829",
     "exception": false,
     "start_time": "2020-09-07T10:06:06.260284",
     "status": "completed"
    },
    "tags": []
   },
   "source": [
    "How does the normalized \"usd_pledged_real\" column look different from when we normalized the \"pledged\" column?  Or, do they look mostly the same?\n",
    "\n",
    "Once you have an answer, run the code cell below."
   ]
  },
  {
   "cell_type": "code",
   "execution_count": 11,
   "metadata": {
    "execution": {
     "iopub.execute_input": "2020-09-07T10:06:06.296006Z",
     "iopub.status.busy": "2020-09-07T10:06:06.294947Z",
     "iopub.status.idle": "2020-09-07T10:06:06.301229Z",
     "shell.execute_reply": "2020-09-07T10:06:06.300462Z"
    },
    "papermill": {
     "duration": 0.021616,
     "end_time": "2020-09-07T10:06:06.301363",
     "exception": false,
     "start_time": "2020-09-07T10:06:06.279747",
     "status": "completed"
    },
    "tags": []
   },
   "outputs": [
    {
     "data": {
      "application/javascript": [
       "parent.postMessage({\"jupyterEvent\": \"custom.exercise_interaction\", \"data\": {\"outcomeType\": 1, \"valueTowardsCompletion\": 0.3333333333333333, \"interactionType\": 1, \"questionType\": 4, \"questionId\": \"2_TryNormalization\", \"learnToolsVersion\": \"0.3.4\", \"failureMessage\": \"\", \"exceptionClass\": \"\", \"trace\": \"\"}}, \"*\")"
      ],
      "text/plain": [
       "<IPython.core.display.Javascript object>"
      ]
     },
     "metadata": {},
     "output_type": "display_data"
    },
    {
     "data": {
      "text/markdown": [
       "<span style=\"color:#33cc33\">Correct:</span> \n",
       "\n",
       "The distributions in the normalized data look mostly the same."
      ],
      "text/plain": [
       "Correct: \n",
       "\n",
       "The distributions in the normalized data look mostly the same."
      ]
     },
     "metadata": {},
     "output_type": "display_data"
    }
   ],
   "source": [
    "# Check your answer (Run this code cell to receive credit!)\n",
    "q2.check()"
   ]
  },
  {
   "cell_type": "code",
   "execution_count": 12,
   "metadata": {
    "execution": {
     "iopub.execute_input": "2020-09-07T10:06:06.327227Z",
     "iopub.status.busy": "2020-09-07T10:06:06.326094Z",
     "iopub.status.idle": "2020-09-07T10:06:06.329678Z",
     "shell.execute_reply": "2020-09-07T10:06:06.329002Z"
    },
    "papermill": {
     "duration": 0.018213,
     "end_time": "2020-09-07T10:06:06.329802",
     "exception": false,
     "start_time": "2020-09-07T10:06:06.311589",
     "status": "completed"
    },
    "tags": []
   },
   "outputs": [],
   "source": [
    "# Line below will give you a hint\n",
    "#q2.hint()"
   ]
  },
  {
   "cell_type": "markdown",
   "execution_count": null,
   "metadata": {
    "papermill": {
     "duration": 0.009759,
     "end_time": "2020-09-07T10:06:06.349745",
     "exception": false,
     "start_time": "2020-09-07T10:06:06.339986",
     "status": "completed"
    },
    "tags": []
   },
   "source": [
    "# 3) Normalization or scaling?\n",
    "\n",
    "For each of the following examples, decide whether scaling or normalization makes more sense. \n",
    "\n",
    "* You want to build a linear regression model to predict someone's grades given how much time they spend on various activities during a normal school week.  You notice that your measurements for how much time students spend studying aren't normally distributed: some students spend almost no time studying and others study for four or more hours every day. Should you scale or normalize this variable?\n",
    "* You're still working on your grades study, but you want to include information on how students perform on several fitness tests as well. You have information on how many jumping jacks and push-ups each student can complete in a minute. However, you notice that students perform far more jumping jacks than push-ups: the average for the former is 40, and for the latter only 10. Should you scale or normalize these variables?\n",
    "\n",
    "Once you have an answer, run the code cell below."
   ]
  },
  {
   "cell_type": "code",
   "execution_count": 13,
   "metadata": {
    "execution": {
     "iopub.execute_input": "2020-09-07T10:06:06.385345Z",
     "iopub.status.busy": "2020-09-07T10:06:06.384081Z",
     "iopub.status.idle": "2020-09-07T10:06:06.390771Z",
     "shell.execute_reply": "2020-09-07T10:06:06.391770Z"
    },
    "papermill": {
     "duration": 0.031375,
     "end_time": "2020-09-07T10:06:06.392022",
     "exception": false,
     "start_time": "2020-09-07T10:06:06.360647",
     "status": "completed"
    },
    "tags": []
   },
   "outputs": [
    {
     "data": {
      "application/javascript": [
       "parent.postMessage({\"jupyterEvent\": \"custom.exercise_interaction\", \"data\": {\"outcomeType\": 1, \"valueTowardsCompletion\": 0.3333333333333333, \"interactionType\": 1, \"questionType\": 4, \"questionId\": \"3_NormOrScale\", \"learnToolsVersion\": \"0.3.4\", \"failureMessage\": \"\", \"exceptionClass\": \"\", \"trace\": \"\"}}, \"*\")"
      ],
      "text/plain": [
       "<IPython.core.display.Javascript object>"
      ]
     },
     "metadata": {},
     "output_type": "display_data"
    },
    {
     "data": {
      "text/markdown": [
       "<span style=\"color:#33cc33\">Correct:</span> \n",
       "\n",
       "In the second example, scaling makes sense, so that we can compare differences in jumping jacks and push-ups on equal footing.  As for the first example, note that an older version of this course implied that normalization was required.  However, this is not the case."
      ],
      "text/plain": [
       "Correct: \n",
       "\n",
       "In the second example, scaling makes sense, so that we can compare differences in jumping jacks and push-ups on equal footing.  As for the first example, note that an older version of this course implied that normalization was required.  However, this is not the case."
      ]
     },
     "metadata": {},
     "output_type": "display_data"
    }
   ],
   "source": [
    "# Check your answer (Run this code cell to receive credit!)\n",
    "q3.check()"
   ]
  },
  {
   "cell_type": "code",
   "execution_count": 14,
   "metadata": {
    "execution": {
     "iopub.execute_input": "2020-09-07T10:06:06.426854Z",
     "iopub.status.busy": "2020-09-07T10:06:06.426003Z",
     "iopub.status.idle": "2020-09-07T10:06:06.430138Z",
     "shell.execute_reply": "2020-09-07T10:06:06.429328Z"
    },
    "papermill": {
     "duration": 0.021866,
     "end_time": "2020-09-07T10:06:06.430308",
     "exception": false,
     "start_time": "2020-09-07T10:06:06.408442",
     "status": "completed"
    },
    "tags": []
   },
   "outputs": [],
   "source": [
    "# Line below will give you a hint\n",
    "#q3.hint()"
   ]
  },
  {
   "cell_type": "markdown",
   "execution_count": null,
   "metadata": {
    "papermill": {
     "duration": 0.010558,
     "end_time": "2020-09-07T10:06:06.451998",
     "exception": false,
     "start_time": "2020-09-07T10:06:06.441440",
     "status": "completed"
    },
    "tags": []
   },
   "source": [
    "# (Optional) More practice\n",
    "\n",
    "Try finding a new dataset and pretend you're preparing to perform a [regression analysis](https://www.kaggle.com/rtatman/the-5-day-regression-challenge). \n",
    "\n",
    "[These datasets are a good start!](https://www.kaggle.com/rtatman/datasets-for-regression-analysis)\n",
    "\n",
    "Pick three or four variables and decide if you need to normalize or scale any of them and, if you think you should, practice applying the correct technique.\n",
    "\n",
    "# Keep going\n",
    "\n",
    "In the next lesson, learn how to [**parse dates**](https://www.kaggle.com/alexisbcook/parsing-dates) in a dataset."
   ]
  },
  {
   "cell_type": "markdown",
   "execution_count": null,
   "metadata": {
    "papermill": {
     "duration": 0.010346,
     "end_time": "2020-09-07T10:06:06.473183",
     "exception": false,
     "start_time": "2020-09-07T10:06:06.462837",
     "status": "completed"
    },
    "tags": []
   },
   "source": [
    "---\n",
    "**[Data Cleaning Home Page](https://www.kaggle.com/learn/data-cleaning)**\n",
    "\n",
    "\n",
    "\n",
    "\n",
    "\n",
    "*Have questions or comments? Visit the [Learn Discussion forum](https://www.kaggle.com/learn-forum) to chat with other Learners.*"
   ]
  }
 ],
 "metadata": {
  "kernelspec": {
   "display_name": "Python 3",
   "language": "python",
   "name": "python3"
  },
  "language_info": {
   "codemirror_mode": {
    "name": "ipython",
    "version": 3
   },
   "file_extension": ".py",
   "mimetype": "text/x-python",
   "name": "python",
   "nbconvert_exporter": "python",
   "pygments_lexer": "ipython3",
   "version": "3.7.6"
  },
  "papermill": {
   "duration": 14.571963,
   "end_time": "2020-09-07T10:06:06.592476",
   "environment_variables": {},
   "exception": null,
   "input_path": "__notebook__.ipynb",
   "output_path": "__notebook__.ipynb",
   "parameters": {},
   "start_time": "2020-09-07T10:05:52.020513",
   "version": "2.1.0"
  }
 },
 "nbformat": 4,
 "nbformat_minor": 4
}
