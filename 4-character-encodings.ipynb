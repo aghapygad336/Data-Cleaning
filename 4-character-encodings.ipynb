{
 "cells": [
  {
   "cell_type": "markdown",
   "execution_count": null,
   "metadata": {
    "papermill": {
     "duration": 0.007614,
     "end_time": "2020-09-07T12:54:05.831743",
     "exception": false,
     "start_time": "2020-09-07T12:54:05.824129",
     "status": "completed"
    },
    "tags": []
   },
   "source": [
    "**[Data Cleaning Home Page](https://www.kaggle.com/learn/data-cleaning)**\n",
    "\n",
    "---\n"
   ]
  },
  {
   "cell_type": "markdown",
   "execution_count": null,
   "metadata": {
    "papermill": {
     "duration": 0.005838,
     "end_time": "2020-09-07T12:54:05.843741",
     "exception": false,
     "start_time": "2020-09-07T12:54:05.837903",
     "status": "completed"
    },
    "tags": []
   },
   "source": [
    "In this exercise, you'll apply what you learned in the **Character encodings** tutorial.\n",
    "\n",
    "# Setup\n",
    "\n",
    "The questions below will give you feedback on your work. Run the following cell to set up the feedback system."
   ]
  },
  {
   "cell_type": "code",
   "execution_count": 1,
   "metadata": {
    "execution": {
     "iopub.execute_input": "2020-09-07T12:54:05.862166Z",
     "iopub.status.busy": "2020-09-07T12:54:05.861217Z",
     "iopub.status.idle": "2020-09-07T12:54:06.005190Z",
     "shell.execute_reply": "2020-09-07T12:54:06.004557Z"
    },
    "papermill": {
     "duration": 0.155732,
     "end_time": "2020-09-07T12:54:06.005323",
     "exception": false,
     "start_time": "2020-09-07T12:54:05.849591",
     "status": "completed"
    },
    "tags": []
   },
   "outputs": [
    {
     "name": "stdout",
     "output_type": "stream",
     "text": [
      "Setup Complete\n"
     ]
    }
   ],
   "source": [
    "from learntools.core import binder\n",
    "binder.bind(globals())\n",
    "from learntools.data_cleaning.ex4 import *\n",
    "print(\"Setup Complete\")"
   ]
  },
  {
   "cell_type": "markdown",
   "execution_count": null,
   "metadata": {
    "papermill": {
     "duration": 0.005795,
     "end_time": "2020-09-07T12:54:06.019235",
     "exception": false,
     "start_time": "2020-09-07T12:54:06.013440",
     "status": "completed"
    },
    "tags": []
   },
   "source": [
    "# # Get our environment set up\n",
    "\n",
    "The first thing we'll need to do is load in the libraries we'll be using."
   ]
  },
  {
   "cell_type": "code",
   "execution_count": 2,
   "metadata": {
    "execution": {
     "iopub.execute_input": "2020-09-07T12:54:06.037253Z",
     "iopub.status.busy": "2020-09-07T12:54:06.036532Z",
     "iopub.status.idle": "2020-09-07T12:54:06.039661Z",
     "shell.execute_reply": "2020-09-07T12:54:06.038972Z"
    },
    "papermill": {
     "duration": 0.014414,
     "end_time": "2020-09-07T12:54:06.039795",
     "exception": false,
     "start_time": "2020-09-07T12:54:06.025381",
     "status": "completed"
    },
    "tags": []
   },
   "outputs": [],
   "source": [
    "# modules we'll use\n",
    "import pandas as pd\n",
    "import numpy as np\n",
    "\n",
    "# helpful character encoding module\n",
    "import chardet\n",
    "\n",
    "# set seed for reproducibility\n",
    "np.random.seed(0)"
   ]
  },
  {
   "cell_type": "markdown",
   "execution_count": null,
   "metadata": {
    "papermill": {
     "duration": 0.006203,
     "end_time": "2020-09-07T12:54:06.052252",
     "exception": false,
     "start_time": "2020-09-07T12:54:06.046049",
     "status": "completed"
    },
    "tags": []
   },
   "source": [
    "# 1) What are encodings?\n",
    "\n",
    "You're working with a dataset composed of bytes.  Run the code cell below to print a sample entry."
   ]
  },
  {
   "cell_type": "code",
   "execution_count": 3,
   "metadata": {
    "execution": {
     "iopub.execute_input": "2020-09-07T12:54:06.071155Z",
     "iopub.status.busy": "2020-09-07T12:54:06.070380Z",
     "iopub.status.idle": "2020-09-07T12:54:06.073870Z",
     "shell.execute_reply": "2020-09-07T12:54:06.074428Z"
    },
    "papermill": {
     "duration": 0.015884,
     "end_time": "2020-09-07T12:54:06.074607",
     "exception": false,
     "start_time": "2020-09-07T12:54:06.058723",
     "status": "completed"
    },
    "tags": []
   },
   "outputs": [
    {
     "name": "stdout",
     "output_type": "stream",
     "text": [
      "b'\\xa7A\\xa6n'\n",
      "data type: <class 'bytes'>\n"
     ]
    }
   ],
   "source": [
    "sample_entry = b'\\xa7A\\xa6n'\n",
    "print(sample_entry)\n",
    "print('data type:', type(sample_entry))"
   ]
  },
  {
   "cell_type": "markdown",
   "execution_count": null,
   "metadata": {
    "papermill": {
     "duration": 0.006039,
     "end_time": "2020-09-07T12:54:06.086916",
     "exception": false,
     "start_time": "2020-09-07T12:54:06.080877",
     "status": "completed"
    },
    "tags": []
   },
   "source": [
    "You notice that it doesn't use the standard UTF-8 encoding. \n",
    "\n",
    "Use the next code cell to create a variable `new_entry` that changes the encoding from `\"big5-tw\"` to `\"utf-8\"`.  `new_entry` should have the bytes datatype."
   ]
  },
  {
   "cell_type": "code",
   "execution_count": 4,
   "metadata": {
    "execution": {
     "iopub.execute_input": "2020-09-07T12:54:06.107856Z",
     "iopub.status.busy": "2020-09-07T12:54:06.107116Z",
     "iopub.status.idle": "2020-09-07T12:54:06.114612Z",
     "shell.execute_reply": "2020-09-07T12:54:06.113971Z"
    },
    "papermill": {
     "duration": 0.021598,
     "end_time": "2020-09-07T12:54:06.114734",
     "exception": false,
     "start_time": "2020-09-07T12:54:06.093136",
     "status": "completed"
    },
    "tags": []
   },
   "outputs": [
    {
     "name": "stdout",
     "output_type": "stream",
     "text": [
      "你好\n"
     ]
    },
    {
     "data": {
      "application/javascript": [
       "parent.postMessage({\"jupyterEvent\": \"custom.exercise_interaction\", \"data\": {\"outcomeType\": 1, \"valueTowardsCompletion\": 0.3333333333333333, \"interactionType\": 1, \"questionType\": 1, \"questionId\": \"1_EncodingsIntro\", \"learnToolsVersion\": \"0.3.4\", \"failureMessage\": \"\", \"exceptionClass\": \"\", \"trace\": \"\"}}, \"*\")"
      ],
      "text/plain": [
       "<IPython.core.display.Javascript object>"
      ]
     },
     "metadata": {},
     "output_type": "display_data"
    },
    {
     "data": {
      "text/markdown": [
       "<span style=\"color:#33cc33\">Correct</span>"
      ],
      "text/plain": [
       "Correct"
      ]
     },
     "metadata": {},
     "output_type": "display_data"
    }
   ],
   "source": [
    "\n",
    "\n",
    "new_entry = sample_entry.decode(\"big5-tw\")\n",
    "print(new_entry)\n",
    "new_entry=new_entry.encode(\"utf-8\", errors=\"replace\")\n",
    "# Check your answer\n",
    "q1.check()\n",
    "\n"
   ]
  },
  {
   "cell_type": "code",
   "execution_count": 5,
   "metadata": {
    "execution": {
     "iopub.execute_input": "2020-09-07T12:54:06.132585Z",
     "iopub.status.busy": "2020-09-07T12:54:06.131649Z",
     "iopub.status.idle": "2020-09-07T12:54:06.135116Z",
     "shell.execute_reply": "2020-09-07T12:54:06.134404Z"
    },
    "papermill": {
     "duration": 0.013806,
     "end_time": "2020-09-07T12:54:06.135234",
     "exception": false,
     "start_time": "2020-09-07T12:54:06.121428",
     "status": "completed"
    },
    "tags": []
   },
   "outputs": [],
   "source": [
    "# Lines below will give you a hint or solution code\n",
    "#q1.hint()\n",
    "#q1.solution()"
   ]
  },
  {
   "cell_type": "markdown",
   "execution_count": null,
   "metadata": {
    "papermill": {
     "duration": 0.006529,
     "end_time": "2020-09-07T12:54:06.148550",
     "exception": false,
     "start_time": "2020-09-07T12:54:06.142021",
     "status": "completed"
    },
    "tags": []
   },
   "source": [
    "# 2) Reading in files with encoding problems\n",
    "\n",
    "Use the code cell below to read in this file at path `\"../input/fatal-police-shootings-in-the-us/PoliceKillingsUS.csv\"`.  \n",
    "\n",
    "Figure out what the correct encoding should be and read in the file to a DataFrame `police_killings`."
   ]
  },
  {
   "cell_type": "code",
   "execution_count": 6,
   "metadata": {
    "execution": {
     "iopub.execute_input": "2020-09-07T12:54:06.169404Z",
     "iopub.status.busy": "2020-09-07T12:54:06.168692Z",
     "iopub.status.idle": "2020-09-07T12:54:08.317298Z",
     "shell.execute_reply": "2020-09-07T12:54:08.316609Z"
    },
    "papermill": {
     "duration": 2.161991,
     "end_time": "2020-09-07T12:54:08.317424",
     "exception": false,
     "start_time": "2020-09-07T12:54:06.155433",
     "status": "completed"
    },
    "tags": []
   },
   "outputs": [
    {
     "name": "stdout",
     "output_type": "stream",
     "text": [
      "{'encoding': 'Windows-1252', 'confidence': 0.73, 'language': ''}\n",
      "   id                name      date   manner_of_death       armed   age  \\\n",
      "0   3          Tim Elliot  02/01/15              shot         gun  53.0   \n",
      "1   4    Lewis Lee Lembke  02/01/15              shot         gun  47.0   \n",
      "2   5  John Paul Quintero  03/01/15  shot and Tasered     unarmed  23.0   \n",
      "3   8     Matthew Hoffman  04/01/15              shot  toy weapon  32.0   \n",
      "4   9   Michael Rodriguez  04/01/15              shot    nail gun  39.0   \n",
      "\n",
      "  gender race           city state  signs_of_mental_illness threat_level  \\\n",
      "0      M    A        Shelton    WA                     True       attack   \n",
      "1      M    W          Aloha    OR                    False       attack   \n",
      "2      M    H        Wichita    KS                    False        other   \n",
      "3      M    W  San Francisco    CA                     True       attack   \n",
      "4      M    H          Evans    CO                    False       attack   \n",
      "\n",
      "          flee  body_camera  \n",
      "0  Not fleeing        False  \n",
      "1  Not fleeing        False  \n",
      "2  Not fleeing        False  \n",
      "3  Not fleeing        False  \n",
      "4  Not fleeing        False  \n"
     ]
    },
    {
     "data": {
      "application/javascript": [
       "parent.postMessage({\"jupyterEvent\": \"custom.exercise_interaction\", \"data\": {\"outcomeType\": 1, \"valueTowardsCompletion\": 0.3333333333333333, \"interactionType\": 1, \"questionType\": 1, \"questionId\": \"2_ReadIn\", \"learnToolsVersion\": \"0.3.4\", \"failureMessage\": \"\", \"exceptionClass\": \"\", \"trace\": \"\"}}, \"*\")"
      ],
      "text/plain": [
       "<IPython.core.display.Javascript object>"
      ]
     },
     "metadata": {},
     "output_type": "display_data"
    },
    {
     "data": {
      "text/markdown": [
       "<span style=\"color:#33cc33\">Correct</span>"
      ],
      "text/plain": [
       "Correct"
      ]
     },
     "metadata": {},
     "output_type": "display_data"
    }
   ],
   "source": [
    "with open(\"../input/fatal-police-shootings-in-the-us/PoliceKillingsUS.csv\", 'rb') as rawdata:\n",
    "    result = chardet.detect(rawdata.read(100000))\n",
    "\n",
    "# check what the character encoding might be\n",
    "print(result)\n",
    "# TODO: Load in the DataFrame correctly.\n",
    "police_killings = pd.read_csv(\"../input/fatal-police-shootings-in-the-us/PoliceKillingsUS.csv\",encoding='Windows-1252')\n",
    "\n",
    "\n",
    "\n",
    "print(police_killings.head(5))\n",
    "# Check your answer\n",
    "q2.check()"
   ]
  },
  {
   "cell_type": "markdown",
   "execution_count": null,
   "metadata": {
    "papermill": {
     "duration": 0.00697,
     "end_time": "2020-09-07T12:54:08.331785",
     "exception": false,
     "start_time": "2020-09-07T12:54:08.324815",
     "status": "completed"
    },
    "tags": []
   },
   "source": [
    "Feel free to use any additional code cells for supplemental work.  To get credit for finishing this question, you'll need to run `q2.check()` and get a result of **Correct**."
   ]
  },
  {
   "cell_type": "code",
   "execution_count": 7,
   "metadata": {
    "execution": {
     "iopub.execute_input": "2020-09-07T12:54:08.351309Z",
     "iopub.status.busy": "2020-09-07T12:54:08.350316Z",
     "iopub.status.idle": "2020-09-07T12:54:08.353621Z",
     "shell.execute_reply": "2020-09-07T12:54:08.352985Z"
    },
    "papermill": {
     "duration": 0.014607,
     "end_time": "2020-09-07T12:54:08.353745",
     "exception": false,
     "start_time": "2020-09-07T12:54:08.339138",
     "status": "completed"
    },
    "tags": []
   },
   "outputs": [],
   "source": [
    "# (Optional) Use this code cell for any additional work."
   ]
  },
  {
   "cell_type": "code",
   "execution_count": 8,
   "metadata": {
    "execution": {
     "iopub.execute_input": "2020-09-07T12:54:08.372652Z",
     "iopub.status.busy": "2020-09-07T12:54:08.371920Z",
     "iopub.status.idle": "2020-09-07T12:54:08.374795Z",
     "shell.execute_reply": "2020-09-07T12:54:08.375362Z"
    },
    "papermill": {
     "duration": 0.014491,
     "end_time": "2020-09-07T12:54:08.375525",
     "exception": false,
     "start_time": "2020-09-07T12:54:08.361034",
     "status": "completed"
    },
    "tags": []
   },
   "outputs": [],
   "source": [
    "# Lines below will give you a hint or solution code\n",
    "#q2.hint()\n",
    "#q2.solution()"
   ]
  },
  {
   "cell_type": "markdown",
   "execution_count": null,
   "metadata": {
    "papermill": {
     "duration": 0.006945,
     "end_time": "2020-09-07T12:54:08.390006",
     "exception": false,
     "start_time": "2020-09-07T12:54:08.383061",
     "status": "completed"
    },
    "tags": []
   },
   "source": [
    "# 3) Saving your files with UTF-8 encoding\n",
    "\n",
    "Save a version of the police killings dataset to CSV with UTF-8 encoding.  Your answer will be marked correct after saving this file.  \n",
    "\n",
    "Note: When using the `to_csv()` method, supply only the name of the file (e.g., `\"my_file.csv\"`).  This saves the file at the filepath `\"/kaggle/working/my_file.csv\"`."
   ]
  },
  {
   "cell_type": "code",
   "execution_count": 9,
   "metadata": {
    "execution": {
     "iopub.execute_input": "2020-09-07T12:54:08.410709Z",
     "iopub.status.busy": "2020-09-07T12:54:08.409952Z",
     "iopub.status.idle": "2020-09-07T12:54:08.809797Z",
     "shell.execute_reply": "2020-09-07T12:54:08.809186Z"
    },
    "papermill": {
     "duration": 0.412737,
     "end_time": "2020-09-07T12:54:08.809925",
     "exception": false,
     "start_time": "2020-09-07T12:54:08.397188",
     "status": "completed"
    },
    "tags": []
   },
   "outputs": [
    {
     "name": "stdout",
     "output_type": "stream",
     "text": [
      "        id                name      date   manner_of_death       armed   age  \\\n",
      "0        3          Tim Elliot  02/01/15              shot         gun  53.0   \n",
      "1        4    Lewis Lee Lembke  02/01/15              shot         gun  47.0   \n",
      "2        5  John Paul Quintero  03/01/15  shot and Tasered     unarmed  23.0   \n",
      "3        8     Matthew Hoffman  04/01/15              shot  toy weapon  32.0   \n",
      "4        9   Michael Rodriguez  04/01/15              shot    nail gun  39.0   \n",
      "...    ...                 ...       ...               ...         ...   ...   \n",
      "2530  2822    Rodney E. Jacobs  28/07/17              shot         gun  31.0   \n",
      "2531  2813               TK TK  28/07/17              shot     vehicle   NaN   \n",
      "2532  2818  Dennis W. Robinson  29/07/17              shot         gun  48.0   \n",
      "2533  2817       Isaiah Tucker  31/07/17              shot     vehicle  28.0   \n",
      "2534  2815        Dwayne Jeune  31/07/17              shot       knife  32.0   \n",
      "\n",
      "     gender race           city state  signs_of_mental_illness threat_level  \\\n",
      "0         M    A        Shelton    WA                     True       attack   \n",
      "1         M    W          Aloha    OR                    False       attack   \n",
      "2         M    H        Wichita    KS                    False        other   \n",
      "3         M    W  San Francisco    CA                     True       attack   \n",
      "4         M    H          Evans    CO                    False       attack   \n",
      "...     ...  ...            ...   ...                      ...          ...   \n",
      "2530      M  NaN    Kansas City    MO                    False       attack   \n",
      "2531      M  NaN    Albuquerque    NM                    False       attack   \n",
      "2532      M  NaN          Melba    ID                    False       attack   \n",
      "2533      M    B        Oshkosh    WI                    False       attack   \n",
      "2534      M    B       Brooklyn    NY                     True       attack   \n",
      "\n",
      "             flee  body_camera  \n",
      "0     Not fleeing        False  \n",
      "1     Not fleeing        False  \n",
      "2     Not fleeing        False  \n",
      "3     Not fleeing        False  \n",
      "4     Not fleeing        False  \n",
      "...           ...          ...  \n",
      "2530  Not fleeing        False  \n",
      "2531          Car        False  \n",
      "2532          Car        False  \n",
      "2533          Car         True  \n",
      "2534  Not fleeing        False  \n",
      "\n",
      "[2535 rows x 14 columns]\n"
     ]
    },
    {
     "data": {
      "application/javascript": [
       "parent.postMessage({\"jupyterEvent\": \"custom.exercise_interaction\", \"data\": {\"outcomeType\": 1, \"valueTowardsCompletion\": 0.3333333333333333, \"interactionType\": 1, \"questionType\": 2, \"questionId\": \"3_SaveCSV\", \"learnToolsVersion\": \"0.3.4\", \"failureMessage\": \"\", \"exceptionClass\": \"\", \"trace\": \"\"}}, \"*\")"
      ],
      "text/plain": [
       "<IPython.core.display.Javascript object>"
      ]
     },
     "metadata": {},
     "output_type": "display_data"
    },
    {
     "data": {
      "text/markdown": [
       "<span style=\"color:#33cc33\">Correct</span>"
      ],
      "text/plain": [
       "Correct"
      ]
     },
     "metadata": {},
     "output_type": "display_data"
    }
   ],
   "source": [
    "# TODO: Save the police killings dataset to CSV\n",
    "police_killings = pd.read_csv(\"../input/fatal-police-shootings-in-the-us/PoliceKillingsUS.csv\",encoding='Windows-1252')\n",
    "print(police_killings)\n",
    "police_killings.to_csv(\"PoliceKillingsUS.csv\")\n",
    "# Check your answer\n",
    "q3.check()"
   ]
  },
  {
   "cell_type": "code",
   "execution_count": 10,
   "metadata": {
    "execution": {
     "iopub.execute_input": "2020-09-07T12:54:08.830591Z",
     "iopub.status.busy": "2020-09-07T12:54:08.829604Z",
     "iopub.status.idle": "2020-09-07T12:54:08.832965Z",
     "shell.execute_reply": "2020-09-07T12:54:08.832212Z"
    },
    "papermill": {
     "duration": 0.015193,
     "end_time": "2020-09-07T12:54:08.833092",
     "exception": false,
     "start_time": "2020-09-07T12:54:08.817899",
     "status": "completed"
    },
    "tags": []
   },
   "outputs": [],
   "source": [
    "# Lines below will give you a hint or solution code\n",
    "#q3.hint()\n",
    "#q3.solution()"
   ]
  },
  {
   "cell_type": "markdown",
   "execution_count": null,
   "metadata": {
    "papermill": {
     "duration": 0.007573,
     "end_time": "2020-09-07T12:54:08.848653",
     "exception": false,
     "start_time": "2020-09-07T12:54:08.841080",
     "status": "completed"
    },
    "tags": []
   },
   "source": [
    "# (Optional) More practice\n",
    "\n",
    "Check out [this dataset of files in different character encodings](https://www.kaggle.com/rtatman/character-encoding-examples). Can you read in all the files with their original encodings and them save them out as UTF-8 files?\n",
    "\n",
    "If you have a file that's in UTF-8 but has just a couple of weird-looking characters in it, you can try out the [ftfy module](https://ftfy.readthedocs.io/en/latest/#) and see if it helps. \n",
    "\n",
    "# Keep going\n",
    "\n",
    "In the final lesson, learn how to [**clean up inconsistent text entries**](https://www.kaggle.com/alexisbcook/inconsistent-data-entry) in your dataset."
   ]
  },
  {
   "cell_type": "markdown",
   "execution_count": null,
   "metadata": {
    "papermill": {
     "duration": 0.007723,
     "end_time": "2020-09-07T12:54:08.864345",
     "exception": false,
     "start_time": "2020-09-07T12:54:08.856622",
     "status": "completed"
    },
    "tags": []
   },
   "source": [
    "---\n",
    "**[Data Cleaning Home Page](https://www.kaggle.com/learn/data-cleaning)**\n",
    "\n",
    "\n",
    "\n",
    "\n",
    "\n",
    "*Have questions or comments? Visit the [Learn Discussion forum](https://www.kaggle.com/learn-forum/172650) to chat with other Learners.*"
   ]
  }
 ],
 "metadata": {
  "kernelspec": {
   "display_name": "Python 3",
   "language": "python",
   "name": "python3"
  },
  "language_info": {
   "codemirror_mode": {
    "name": "ipython",
    "version": 3
   },
   "file_extension": ".py",
   "mimetype": "text/x-python",
   "name": "python",
   "nbconvert_exporter": "python",
   "pygments_lexer": "ipython3",
   "version": "3.7.6"
  },
  "papermill": {
   "duration": 7.821851,
   "end_time": "2020-09-07T12:54:08.980784",
   "environment_variables": {},
   "exception": null,
   "input_path": "__notebook__.ipynb",
   "output_path": "__notebook__.ipynb",
   "parameters": {},
   "start_time": "2020-09-07T12:54:01.158933",
   "version": "2.1.0"
  }
 },
 "nbformat": 4,
 "nbformat_minor": 4
}
